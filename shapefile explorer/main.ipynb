{
 "cells": [
  {
   "cell_type": "code",
   "execution_count": 1,
   "metadata": {},
   "outputs": [
    {
     "name": "stdout",
     "output_type": "stream",
     "text": [
      "Processing /home/hamza/Data/phd/STARWARS/project/dataset/private/accessories/1704-M3M-A_ACCESSOIRE.shp\n"
     ]
    },
    {
     "data": {
      "text/html": [
       "<div>\n",
       "<style scoped>\n",
       "    .dataframe tbody tr th:only-of-type {\n",
       "        vertical-align: middle;\n",
       "    }\n",
       "\n",
       "    .dataframe tbody tr th {\n",
       "        vertical-align: top;\n",
       "    }\n",
       "\n",
       "    .dataframe thead th {\n",
       "        text-align: right;\n",
       "    }\n",
       "</style>\n",
       "<table border=\"1\" class=\"dataframe\">\n",
       "  <thead>\n",
       "    <tr style=\"text-align: right;\">\n",
       "      <th></th>\n",
       "      <th>type</th>\n",
       "      <th>max</th>\n",
       "      <th>min</th>\n",
       "      <th>values set</th>\n",
       "      <th>filled values</th>\n",
       "    </tr>\n",
       "  </thead>\n",
       "  <tbody>\n",
       "    <tr>\n",
       "      <th>COMMUNE</th>\n",
       "      <td>Number</td>\n",
       "      <td>34327.0</td>\n",
       "      <td>34057.0</td>\n",
       "      <td>None</td>\n",
       "      <td>119/119</td>\n",
       "    </tr>\n",
       "    <tr>\n",
       "      <th>MSLINK</th>\n",
       "      <td>Number</td>\n",
       "      <td>301.0</td>\n",
       "      <td>3.0</td>\n",
       "      <td>None</td>\n",
       "      <td>119/119</td>\n",
       "    </tr>\n",
       "    <tr>\n",
       "      <th>CODE_CONT</th>\n",
       "      <td>Categorical-String</td>\n",
       "      <td>None</td>\n",
       "      <td>None</td>\n",
       "      <td>[J3561, J3551]</td>\n",
       "      <td>119/119</td>\n",
       "    </tr>\n",
       "    <tr>\n",
       "      <th>TYPE</th>\n",
       "      <td>Categorical-String</td>\n",
       "      <td>None</td>\n",
       "      <td>None</td>\n",
       "      <td>[Vidange, Ventouse, sonde US, Vanne, debitmetr...</td>\n",
       "      <td>119/119</td>\n",
       "    </tr>\n",
       "  </tbody>\n",
       "</table>\n",
       "</div>"
      ],
      "text/plain": [
       "                         type      max      min  \\\n",
       "COMMUNE                Number  34327.0  34057.0   \n",
       "MSLINK                 Number    301.0      3.0   \n",
       "CODE_CONT  Categorical-String     None     None   \n",
       "TYPE       Categorical-String     None     None   \n",
       "\n",
       "                                                  values set filled values  \n",
       "COMMUNE                                                 None       119/119  \n",
       "MSLINK                                                  None       119/119  \n",
       "CODE_CONT                                     [J3561, J3551]       119/119  \n",
       "TYPE       [Vidange, Ventouse, sonde US, Vanne, debitmetr...       119/119  "
      ]
     },
     "execution_count": 1,
     "metadata": {},
     "output_type": "execute_result"
    }
   ],
   "source": [
    "from ShpExplorer import ShpExplorer\n",
    "\n",
    "explo = ShpExplorer()\n",
    "\n",
    "shapefile  =\"/home/hamza/Data/phd/STARWARS/project/dataset/private/accessories/1704-M3M-A_ACCESSOIRE.shp\"\n",
    "explo.field_types(shapefile=shapefile)"
   ]
  }
 ],
 "metadata": {
  "kernelspec": {
   "display_name": ".venv",
   "language": "python",
   "name": "python3"
  },
  "language_info": {
   "codemirror_mode": {
    "name": "ipython",
    "version": 3
   },
   "file_extension": ".py",
   "mimetype": "text/x-python",
   "name": "python",
   "nbconvert_exporter": "python",
   "pygments_lexer": "ipython3",
   "version": "3.10.12"
  }
 },
 "nbformat": 4,
 "nbformat_minor": 2
}
