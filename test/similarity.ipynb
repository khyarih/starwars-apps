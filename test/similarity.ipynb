{
 "cells": [
  {
   "cell_type": "markdown",
   "metadata": {},
   "source": [
    "# Similarity"
   ]
  },
  {
   "cell_type": "code",
   "execution_count": 1,
   "metadata": {},
   "outputs": [],
   "source": [
    "import sys\n",
    "sys.path.append('../')\n",
    "\n",
    "import os\n",
    "import geopandas as gpd\n",
    "import pandas as pd\n",
    "from common.data import Shapefile\n",
    "import numpy as np\n",
    "\n",
    "import common.dataPrep as dataPrep"
   ]
  },
  {
   "cell_type": "code",
   "execution_count": 2,
   "metadata": {},
   "outputs": [],
   "source": [
    "SHAPEFILE_PATH = 'path/to/file.shp'"
   ]
  },
  {
   "cell_type": "code",
   "execution_count": 3,
   "metadata": {},
   "outputs": [],
   "source": [
    "# types and possible values of each attribute\n",
    "\n",
    "def load_shapefile_and_print_unique_values(shapefile_path):\n",
    "    # Load the shapefile\n",
    "    gdf = gpd.read_file(shapefile_path)\n",
    "\n",
    "    # Iterate through each attribute and print unique values or a message\n",
    "    for column in gdf.columns:\n",
    "        unique_values = gdf[column].unique()\n",
    "        if len(unique_values) <= 20:\n",
    "            print(f\"Attribute: {column}, Unique Values: {unique_values}\")\n",
    "        else:\n",
    "            print(f\"Attribute: {column}, More than 10 unique values.\")\n",
    "\n",
    "# load_shapefile_and_print_unique_values(SHAPEFILE_PATH)\n"
   ]
  },
  {
   "cell_type": "code",
   "execution_count": 4,
   "metadata": {},
   "outputs": [],
   "source": [
    "\n",
    "from common.dataPrep import *\n",
    "\n",
    "data_ = load_data(SHAPEFILE_PATH)"
   ]
  },
  {
   "cell_type": "code",
   "execution_count": 5,
   "metadata": {},
   "outputs": [],
   "source": [
    "\n",
    "data = remove_cols(data_, ['geometry'])\n",
    "\n",
    "data = replace_null(data, ['Inc',0, 'NaN', '<Nul>'])\n"
   ]
  },
  {
   "cell_type": "code",
   "execution_count": null,
   "metadata": {},
   "outputs": [],
   "source": [
    "import pandas as pd\n",
    "import matplotlib.pyplot as plt\n",
    "import numpy as np\n",
    "\n",
    "df = pd.DataFrame(data)\n",
    "\n",
    "# Calculate the percentage of missing and complete data for each column\n",
    "percent_missing = df.isnull().mean() * 100\n",
    "percent_complete = 100 - percent_missing\n",
    "\n",
    "# Plotting\n",
    "attributes = df.columns\n",
    "bar_width = 0.35\n",
    "index = np.arange(len(attributes))\n",
    "\n",
    "fig, ax = plt.subplots()\n",
    "bar1 = ax.bar(index, percent_complete, bar_width, label='Complete Data', color='green')\n",
    "bar2 = ax.bar(index, percent_missing, bar_width, bottom=percent_complete, label='Missing Data', color='red')\n",
    "\n",
    "ax.set_xlabel('Attributes')\n",
    "ax.set_ylabel('Percentage')\n",
    "ax.set_title('Percentage of Complete and Missing Data by Attribute')\n",
    "ax.set_xticks(index)\n",
    "ax.set_xticklabels(attributes)\n",
    "ax.set_xticklabels(attributes, rotation='vertical')\n",
    "ax.legend(loc='lower left', bbox_to_anchor=(0.85, -0.3))  # Place the legend outside the plot on the center left\n",
    "\n",
    "# plt.tight_layout() \n",
    "\n",
    "plt.show()\n",
    "\n"
   ]
  },
  {
   "cell_type": "code",
   "execution_count": 7,
   "metadata": {},
   "outputs": [
    {
     "name": "stdout",
     "output_type": "stream",
     "text": [
      "35535\n"
     ]
    }
   ],
   "source": [
    "CURRENT_YEAR = 2020\n",
    "FIRST_YEAR = 1900\n",
    "\n",
    "COUNTER = 0\n",
    "\n",
    "def change_year_interval(data, year_col='ANNEE'):\n",
    "    \"\"\"attribute  change all values into valid interval, we have exmpales like '1980-1990': yyyy-yyyy, '1980-': yyyy, '>2000': >yyyy, '<2000': <yyyy\\n\n",
    "    The changes are as follows:\\n\n",
    "        'year1-year2' -> [year1-year2]  \\n\n",
    "        'year' -> [year-year] \\n\n",
    "        '>year' -> ]year-year] \\n\n",
    "        '<year' -> [year-year[\n",
    "    Args:\n",
    "        data (_type_): _description_\n",
    "    \"\"\"\n",
    "    counter = 0\n",
    "    \n",
    "    # the first 4 digits of int, a function\n",
    "    def get_first_4_digits(x):\n",
    "        val = int(x)\n",
    "        if val > 9999:\n",
    "            return int(str(val)[:4])\n",
    "        else:\n",
    "            return val\n",
    "    \n",
    "    \n",
    "    for i in data.index:\n",
    "        year_value = data.at[i, year_col]\n",
    "\n",
    "        if year_value is not None:\n",
    "            if '-' in year_value:\n",
    "                years = year_value.split('-')\n",
    "                data.at[i, year_col] = [(get_first_4_digits(years[0])), get_first_4_digits(years[1])]\n",
    "                \n",
    "            elif '>' in year_value:\n",
    "                year = year_value.split('>')[1]\n",
    "                data.at[i, year_col] = [get_first_4_digits(year), CURRENT_YEAR]\n",
    "                \n",
    "            elif '<' in year_value:\n",
    "                year = year_value.split('<')[1]\n",
    "                data.at[i, year_col] = [FIRST_YEAR, get_first_4_digits(year)]\n",
    "                \n",
    "            elif year_value.isdigit():\n",
    "                data.at[i, year_col] = [get_first_4_digits(year_value), get_first_4_digits(year_value)]\n",
    "            else:\n",
    "                print('Not supported format {} in row {}'.format(year_value, i))\n",
    "        counter += 1\n",
    "\n",
    "    print(counter)\n",
    "    \n",
    "\n",
    "\n",
    "change_year_interval(data)"
   ]
  },
  {
   "cell_type": "code",
   "execution_count": 8,
   "metadata": {},
   "outputs": [
    {
     "name": "stdout",
     "output_type": "stream",
     "text": [
      "(17578, 8) (17957, 8)\n"
     ]
    }
   ],
   "source": [
    "# sub_data = data.head(100).copy()\n",
    "\n",
    "complet, uncomplet = split2compeleted(data)\n",
    "print(complet.shape, uncomplet.shape)\n",
    "\n",
    "sub_data = complet.head(290).copy()"
   ]
  },
  {
   "cell_type": "code",
   "execution_count": 9,
   "metadata": {},
   "outputs": [],
   "source": [
    "DATA_TYPES = ['NUM', 'CAT', 'INTER']\n",
    "\n",
    "ATTRIBUTES_TYPES = {\n",
    "    'COMMUNE': 'CAT',\n",
    "    'DIAMETRE': 'NUM',\n",
    "    'ANNEE': 'INTER',\n",
    "    'MATERIAU': 'CAT',\n",
    "    'CODE_CONT': 'CAT',\n",
    "    'MOTRICITE': 'CAT',\n",
    "    'long': 'NUM',\n",
    "}"
   ]
  },
  {
   "cell_type": "code",
   "execution_count": 10,
   "metadata": {},
   "outputs": [
    {
     "name": "stdout",
     "output_type": "stream",
     "text": [
      "2020 1900\n"
     ]
    }
   ],
   "source": [
    "def get_attribute_domain(data, attribute, type):\n",
    "    # return the unique values of the attribute except the null value\n",
    "    if type == 'NUM':\n",
    "        # max and min values\n",
    "        return [data[attribute].min(), data[attribute].max()]\n",
    "    elif type == 'CAT':\n",
    "        return [item for item in data[attribute].unique() if item is not None]\n",
    "    \n",
    "    elif type == 'INTER':\n",
    "        # min_first_element = data[attribute].apply(lambda x: x[0] if x is not None else None).min()\n",
    "        # max_second_element = data[attribute].apply(lambda x: x[1] if x is not None else None).max()\n",
    "        \n",
    "        # print(min_first_element, max_second_element)\n",
    "        \n",
    "        # return [min_first_element, max_second_element]\n",
    "        # data[attribute] is a list of 2 elements, need to return the unique lists\n",
    "        unique_lists = {\n",
    "            tuple(sublist)\n",
    "            for sublist in data[attribute]\n",
    "            if sublist is not None and any(item is not None for item in sublist)\n",
    "        }\n",
    "\n",
    "        return [list(item) for item in unique_lists]\n",
    "    \n",
    "    else:\n",
    "        print('Type {} not supported'.format(type))\n",
    "        return None\n",
    "\n",
    "\n",
    "ATTRIBUTES_DOMAIN  = {}\n",
    "\n",
    "for attribute in ATTRIBUTES_TYPES:\n",
    "    ATTRIBUTES_DOMAIN[attribute] = get_attribute_domain(data, attribute, ATTRIBUTES_TYPES[attribute])\n",
    "    \n",
    "MAX_ANNEE = max([x[1] for x in ATTRIBUTES_DOMAIN['ANNEE'] if x is not None])\n",
    "MIN_ANNEE = min([x[0] for x in ATTRIBUTES_DOMAIN['ANNEE'] if x is not None])\n",
    "\n",
    "print(MAX_ANNEE, MIN_ANNEE)"
   ]
  },
  {
   "cell_type": "code",
   "execution_count": 11,
   "metadata": {},
   "outputs": [
    {
     "name": "stdout",
     "output_type": "stream",
     "text": [
      "{'COMMUNE': ['34077', '34270', '34057', '34116', '34090', '34120', '34172', '34217', '34327', '34169', '34198', '34058', '34129', '34309', '34123', '34192'], 'DIAMETRE': [40.0, 4000.0], 'ANNEE': [[1990, 2000], [2012, 2012], [1998, 1998], [2003, 2003], [2000, 2010], [2008, 2008], [1999, 1999], [2005, 2012], [1900, 1950], [1950, 1960], [1970, 1975], [1960, 1970], [2004, 2004], [2013, 2013], [2010, 2020], [1995, 1995], [2016, 2016], [2014, 2014], [2009, 2009], [2000, 2000], [1985, 1990], [1965, 1975], [2005, 2005], [1950, 2020], [1990, 1995], [2010, 2010], [2001, 2001], [1970, 1980], [1995, 2000], [2006, 2006], [2015, 2015], [1997, 1997], [1992, 1992], [1975, 1985], [2000, 2002], [2000, 2005], [2011, 2011], [2002, 2002], [1985, 1995], [2000, 2020], [1980, 1990], [2007, 2007], [2007, 2013]], 'MATERIAU': ['AC', 'PVC', 'FONTE', 'Gres', 'B', 'Bati', 'PRV', 'ACIER', 'PP', 'BONNA', 'Inox', 'PEHD', 'PE'], 'CODE_CONT': ['J3551', 'HorsRccAss', 'J3601', 'J3561'], 'MOTRICITE': ['GRAVITAIRE', 'REFOULEMENT'], 'long': [0.283132009699, 10108.0492362]}\n"
     ]
    }
   ],
   "source": [
    "print(ATTRIBUTES_DOMAIN)"
   ]
  },
  {
   "cell_type": "markdown",
   "metadata": {},
   "source": [
    "### Standard Similarity measues"
   ]
  },
  {
   "cell_type": "markdown",
   "metadata": {},
   "source": [
    "\n",
    " D(a, b) = \\max_{a' \\in [a_1, a_2]} \\left( \\min_{b' \\in [b_1, b_2]} \\left( l(a', b') \\right) "
   ]
  },
  {
   "cell_type": "code",
   "execution_count": 12,
   "metadata": {},
   "outputs": [],
   "source": [
    "def std_numerical_similarity(x, y, domain:list):\n",
    "    return 1 - abs(x - y) / (domain[1] - domain[0])\n",
    "\n",
    "def std_categorical_similarity(f_X, f_Y, equals = False):\n",
    "    # Calculating frequencies\n",
    "    if equals:\n",
    "        f_XY = f_X\n",
    "    else:\n",
    "        f_XY = f_X + f_Y\n",
    "\n",
    "    # Avoiding division by zero and log(0) by adding a small number\n",
    "    epsilon = 1e-9\n",
    "    f_X += epsilon\n",
    "    f_Y += epsilon\n",
    "\n",
    "    # Calculating similarity\n",
    "    similarity = abs(2 * np.log(f_XY)) / (np.log(f_X) + np.log(f_Y))\n",
    "    if similarity > 1:\n",
    "        similarity = 1\n",
    "    elif similarity < 0:\n",
    "        similarity = 0\n",
    "    return similarity\n",
    "\n",
    "# Overlap Metric for Interval Data\n",
    "\n",
    "def l(a_prime, b_prime):\n",
    "    # euclidean distance\n",
    "    return abs(a_prime - b_prime)\n",
    "\n",
    "def D(a1, a2, b1, b2):\n",
    "    c_a = (a1 + a2) / 2\n",
    "    c_b = (b1 + b2) / 2\n",
    "    r_a = (a2 - a1) / 2\n",
    "    r_b = (b2 - b1) / 2\n",
    "    \n",
    "    if abs(c_a - c_b <= (r_b - r_a)):\n",
    "        return 0\n",
    "    elif abs(c_a - c_b) <= (r_a - r_b):\n",
    "        return (abs(c_a - c_b) + r_a - r_b)*(1 - 2*r_b/(2*r_a + 1))\n",
    "    elif r_a == r_b and r_a == 0:\n",
    "        return abs(c_a - c_b)\n",
    "    elif abs(r_a - r_b) < abs(c_a - c_b) and abs(c_a - c_b)< (r_a + r_b):\n",
    "        return (abs(c_a - c_b) + r_a - r_b)*(1 - (r_a + r_b - abs(c_a - c_b))/(2*r_a + 1))\n",
    "    elif abs(c_a - c_b) >= (r_a + r_b):\n",
    "        return (abs(c_a - c_b) + r_a - r_b)*(1 + (abs(c_a - c_b) - (r_a + r_b) )/(2*r_a + 1))\n",
    "        \n",
    "def O(a1, a2, b1, b2):\n",
    "    # overlapped area between intervals a and b\n",
    "    return max(0, min(a2, b2) - max(a1, b1))\n",
    "\n",
    "def std_interval_similarity(a1, a2, b1, b2, domain:list):\n",
    "    if a1 > a2:\n",
    "        raise ValueError(\"a1 must be less than or equal to a2\")\n",
    "    if b1 > b2:\n",
    "        raise ValueError(\"b1 must be less than or equal to b2\")\n",
    "    \n",
    "    c_a = (a1 + a2) / 2\n",
    "    c_b = (b1 + b2) / 2\n",
    "    r_a = (a2 - a1) / 2\n",
    "    r_b = (b2 - b1) / 2\n",
    "    max_divergence = abs(MAX_ANNEE - MIN_ANNEE)*(1 + abs(MAX_ANNEE - MIN_ANNEE) / (2 * r_a + 1))\n",
    "\n",
    "    # Calculate divergence based on interval positions and radii\n",
    "    if abs(c_a - c_b) <= (r_b - r_a):\n",
    "        return 1\n",
    "    elif abs(c_a - c_b) <= (r_a - r_b):\n",
    "        divergence = (abs(c_a - c_b) + r_a - r_b) * (1 - 2 * r_b / (2 * r_a + 1))\n",
    "    elif r_a == r_b and r_a == 0:\n",
    "        divergence = abs(c_a - c_b)\n",
    "    elif abs(r_a - r_b) < abs(c_a - c_b) and abs(c_a - c_b) < (r_a + r_b):\n",
    "        divergence = (abs(c_a - c_b) + r_a - r_b) * (1 - (r_a + r_b - abs(c_a - c_b)) / (2 * r_a + 1))\n",
    "    elif abs(c_a - c_b) >= (r_a + r_b):\n",
    "        divergence = (abs(c_a - c_b) + r_a - r_b) * (1 + (abs(c_a - c_b) - (r_a + r_b)) / (2 * r_a + 1))\n",
    "    else:\n",
    "        divergence = max_divergence\n",
    "\n",
    "    # Normalize the divergence\n",
    "    # max_divergence = abs(domain[1] - domain[0])*(1 + abs(domain[1] - domain[0]) / (2 * r_a + 1))\n",
    "    normalized_divergence = divergence / max_divergence if max_divergence != 0 else 0\n",
    "    \n",
    "    if normalized_divergence > 1:\n",
    "        print('normalized_divergence > 1: {}, max_dvg: {}'.format(normalized_divergence, max_divergence))\n",
    "        normalized_divergence = 1\n",
    "\n",
    "    # Convert to similarity\n",
    "    similarity = 1 - normalized_divergence\n",
    "    return similarity\n",
    "\n",
    "TYPE_STD_SIMILARITY = {\n",
    "    'NUM': std_numerical_similarity,\n",
    "    'CAT': std_categorical_similarity,\n",
    "    'INTER': std_interval_similarity\n",
    "}"
   ]
  },
  {
   "cell_type": "markdown",
   "metadata": {},
   "source": [
    "### Our Approach"
   ]
  },
  {
   "cell_type": "code",
   "execution_count": 13,
   "metadata": {},
   "outputs": [],
   "source": [
    "def calculate_frequency(data, attributes_type:dict):\n",
    "    \"\"\"\n",
    "    Calculate the frequency of each unique value in a specified attribute of a DataFrame.\n",
    "\n",
    "    Args:\n",
    "    data (pd.DataFrame): DataFrame containing the data.\n",
    "    attribute (str): The name of the attribute column.\n",
    "\n",
    "    Returns:\n",
    "    dict: A dictionary with unique values as keys and their frequencies as values.\n",
    "    \"\"\"\n",
    "    \n",
    "    frequency_dict = {}\n",
    "    for attribute in attributes_type:\n",
    "        if attributes_type[attribute] == 'CAT':\n",
    "            # Count the occurrences of each unique value in the attribute\n",
    "            frequency = data[attribute].value_counts()\n",
    "\n",
    "            # Normalize the counts to get frequencies\n",
    "            total_count = len(data)\n",
    "            frequency_dict[attribute] = (frequency / total_count).to_dict()\n",
    "\n",
    "    return frequency_dict\n",
    "\n",
    "\n",
    "\n",
    "FREQUENCY_DICT = calculate_frequency(sub_data, ATTRIBUTES_TYPES)\n"
   ]
  },
  {
   "cell_type": "code",
   "execution_count": 14,
   "metadata": {},
   "outputs": [],
   "source": [
    "\n",
    "\n",
    "\n",
    "def inter_similarity(a, b, domain=None): #TODO: check this one\n",
    "    \n",
    "    if a is None and b is None:\n",
    "        raise Exception('inter_similarity Exception: All values cannot be None')\n",
    "    else:\n",
    "        similarities = []\n",
    "        if a is None:\n",
    "            for inter in domain:\n",
    "                similarities.append(inter_similarity(inter, b, domain) * inter[1] - inter[0])\n",
    "            return np.mean(similarities)\n",
    "        \n",
    "        elif b is None:\n",
    "            for inter in domain:\n",
    "                similarities.append(inter_similarity(a, inter, domain))\n",
    "            return np.mean(similarities)\n",
    "        else:\n",
    "            return std_interval_similarity(a[0], a[1], b[0], b[1], domain)\n",
    "            \n",
    "    \n",
    "\n",
    "TYPE_SIMILARITY = {\n",
    "    'NUM': num_similarity,\n",
    "    'CAT': cat_similarity,\n",
    "    'INTER': inter_similarity\n",
    "}"
   ]
  },
  {
   "cell_type": "code",
   "execution_count": 15,
   "metadata": {},
   "outputs": [],
   "source": [
    "def remove_random_values(data, percentage, escape_cols=[]):\n",
    "    \"\"\"Remove random values from a dataset, maintaining that no row has all missing values.\n",
    "\n",
    "    Args:\n",
    "        data (pd.DataFrame): The dataset.\n",
    "        percentage (float): The percentage of values to remove.\n",
    "        escape_cols (list): Columns to exclude from random removal.\n",
    "\n",
    "    Returns:\n",
    "        pd.DataFrame: The dataset with missing values.\n",
    "    \"\"\"\n",
    "    _data = data.copy()\n",
    "\n",
    "    # Reset the index of the DataFrame to ensure standard continuous integer indexing\n",
    "    _data.reset_index(drop=True, inplace=True)\n",
    "\n",
    "    # Columns that can be modified\n",
    "    modifiable_columns = [col for col in _data.columns if col not in escape_cols]\n",
    "\n",
    "    # Calculate the total number of elements to remove\n",
    "    total_elements = len(modifiable_columns) * len(_data)\n",
    "    num_elements_to_remove = int(percentage * total_elements)\n",
    "\n",
    "    removed = 0\n",
    "    while removed < num_elements_to_remove:\n",
    "        # Randomly select a row and column\n",
    "        row_idx = np.random.randint(len(_data))\n",
    "        col_idx = np.random.choice(modifiable_columns)\n",
    "\n",
    "        # Check if setting this cell to None would leave the row with all None values\n",
    "        if not all(pd.isnull(_data.loc[row_idx, modifiable_columns])):\n",
    "            if _data.at[row_idx, col_idx] is not None:\n",
    "                _data.at[row_idx, col_idx] = None\n",
    "                removed += 1\n",
    "\n",
    "    return _data\n",
    "\n",
    "def has_missing_values(obj):\n",
    "    return any([attr is None for attr in obj])"
   ]
  },
  {
   "cell_type": "code",
   "execution_count": 16,
   "metadata": {},
   "outputs": [],
   "source": [
    "\n",
    "# def find_k_nearest_neighbors(obj_index, data, k, attributes_types, frequency_dict, type_similarity, attr_domains):\n",
    "#     similarities = []\n",
    "#     for index in data.index:\n",
    "#         if index != obj_index:\n",
    "#             similarity = calculate_similarity(data.iloc[obj_index], data.iloc[index], attributes_types, frequency_dict, type_similarity, attr_domains)\n",
    "#             similarities.append((index, similarity))\n",
    "#     similarities.sort(key=lambda x: x[1], reverse=True)\n",
    "#     return similarities[:k]\n",
    "    \n",
    "\n",
    "def calculate_similarity(obj1, obj2, attributes_types, frequency_dict, type_similarity, attr_domain):\n",
    "    \"\"\" Calculate similarity between two objects.\n",
    "    Args:\n",
    "        obj1 (dict): First object.\n",
    "        obj2 (dict): Second object.\n",
    "        attributes_types (dict): Types of attributes.\n",
    "        type_similarity (dict): Types of similarity functions.\n",
    "        attr_domain (dict): Domain of attributes for categorical data.\n",
    "    \"\"\"\n",
    "    \n",
    "    similarity = []\n",
    "    for attr in obj1.index:\n",
    "        if attr in attributes_types:\n",
    "            if attributes_types[attr] == 'NUM':\n",
    "                if obj1[attr] is not None or obj2[attr] is not None:\n",
    "                    sim = type_similarity['NUM'](obj1[attr], obj2[attr], attr_domain[attr])\n",
    "                    similarity.append(sim)\n",
    "                \n",
    "            elif attributes_types[attr] == 'CAT':\n",
    "                if obj1[attr] is not None or obj2[attr] is not None :\n",
    "                    sim = type_similarity['CAT'](obj1[attr], obj2[attr], frequency_dict[attr],  attr_domain[attr])\n",
    "                    # if sim < 0:\n",
    "                    #     print(obj1[attr], obj2[attr], attr_domain[attr])\n",
    "                    similarity.append(sim)\n",
    "                \n",
    "            elif attributes_types[attr] == 'INTER':\n",
    "                if obj1[attr] is not None or obj2[attr] is not None:\n",
    "                    a,b = obj1[attr], obj2[attr]\n",
    "                    sim = type_similarity['INTER'](a, b, attr_domain[attr])\n",
    "                    # if sim < 0:\n",
    "                    #     print(obj1[attr], obj2[attr], attr_domain[attr])\n",
    "                    similarity.append(sim)\n",
    "            else:\n",
    "                print('Not supported type {} for attribute {} of values obj1[{}] = {} and obj2[{}] = {} '.format(attributes_types[attr], attr, attr, obj1[attr], attr, obj2[attr]))\n",
    "                \n",
    "    # return np.average(similarity, weights=weights)\n",
    "    return np.average(similarity) if len(similarity) > 0 else 0"
   ]
  },
  {
   "cell_type": "code",
   "execution_count": 17,
   "metadata": {},
   "outputs": [],
   "source": [
    "# # Test calculate similarity\n",
    "\n",
    "# test_data = remove_random_values(sub_data.head(20), 0.8, ['MSLINK'])\n",
    "\n",
    "# print(test_data)\n",
    "\n",
    "# test_similarity_matrix = np.zeros((len(test_data), len(test_data)))\n",
    "# for i in range(len(test_data)):\n",
    "#     for j in range(len(test_data)):\n",
    "#         test_similarity_matrix[i, j] = calculate_similarity(test_data.iloc[i], test_data.iloc[j], ATTRIBUTES_TYPES, FREQUENCY_DICT, TYPE_SIMILARITY, ATTRIBUTES_DOMAIN)\n",
    "        \n",
    "        \n",
    "# print(test_similarity_matrix)\n",
    "\n"
   ]
  },
  {
   "cell_type": "code",
   "execution_count": 18,
   "metadata": {},
   "outputs": [],
   "source": [
    "def calculate_similarity_vs(obj1, obj2, attributes_types, frequency_dict, type_similarity, attr_domain):\n",
    "    \"\"\" Calculate similarity between two objects.\n",
    "attribute\n",
    "    Args:\n",
    "        obj1 (dict): First object.\n",
    "        obj2 (dict): Second object.\n",
    "        attributes_types (dict): Types of attributes.\n",
    "        type_similarity (dict): Types of similarity functions.\n",
    "        attr_domain (dict): Domain of attributes for categorical data.\n",
    "    \"\"\"\n",
    "    \n",
    "    similarity = []\n",
    "    for attr in obj1.index:\n",
    "        if attr in attributes_types:\n",
    "            if attributes_types[attr] == 'NUM' and obj1[attr] is not None and obj2[attr] is not None:\n",
    "                    sim = type_similarity['NUM'](obj1[attr], obj2[attr], attr_domain[attr])\n",
    "                    similarity.append(sim)\n",
    "                \n",
    "            elif attributes_types[attr] == 'CAT' and obj1[attr] is not None and obj2[attr] is not None:\n",
    "                    sim = type_similarity['CAT'](obj1[attr], obj2[attr], frequency_dict[attr],  attr_domain[attr])\n",
    "                    if sim < 0:\n",
    "                        print(obj1[attr], obj2[attr], attr_domain[attr])\n",
    "                    similarity.append(sim)\n",
    "                \n",
    "            elif attributes_types[attr] == 'INTER' and obj1[attr] is not None and obj2[attr] is not None:\n",
    "                    sim = type_similarity['INTER'](obj1[attr], obj2[attr], attr_domain[attr])\n",
    "                    if sim < 0:\n",
    "                        print(obj1[attr], obj2[attr], attr_domain[attr])\n",
    "                    similarity.append(sim)\n",
    "            # else:\n",
    "                # print('Not supported type {}'.format(attributes_types[attr]))\n",
    "                \n",
    "    # return np.average(similarity, weights=weights)\n",
    "    return  np.average(similarity) if len(similarity) > 0 else 0"
   ]
  },
  {
   "cell_type": "code",
   "execution_count": 19,
   "metadata": {},
   "outputs": [],
   "source": [
    "from concurrent.futures import ThreadPoolExecutor\n",
    "\n",
    "def pairwise_similarity(data, metric):\n",
    "    \"\"\"Compute the distance matrix for a dataset using multithreading.\n",
    "\n",
    "    Args:\n",
    "        data (pd.DataFrame): The dataset.\n",
    "        metric (func): The distance metric to use.\n",
    "\n",
    "    Returns:\n",
    "        np.array: The distance matrix.\n",
    "    \"\"\"\n",
    "    num_data_pts = len(data)\n",
    "    dist_matrix = np.zeros((num_data_pts, num_data_pts))\n",
    "\n",
    "    def compute_distance(i, j):\n",
    "        if i != j:\n",
    "            dist_matrix[i][j] = metric(data.iloc[i], data.iloc[j])\n",
    "            dist_matrix[j][i] = dist_matrix[i][j]\n",
    "        else:\n",
    "            dist_matrix[i][j] = 0\n",
    "        \n",
    "\n",
    "    with ThreadPoolExecutor() as executor:\n",
    "        # just the upper triangle\n",
    "        for i in range(num_data_pts):\n",
    "            for j in range(i, num_data_pts):\n",
    "                executor.submit(compute_distance, i, j)\n",
    "\n",
    "    return dist_matrix\n"
   ]
  },
  {
   "cell_type": "code",
   "execution_count": 20,
   "metadata": {},
   "outputs": [],
   "source": [
    "def custom_similarity(data_pt1, data_pt2):\n",
    "    return calculate_similarity(data_pt1, data_pt2, ATTRIBUTES_TYPES, FREQUENCY_DICT, TYPE_SIMILARITY, ATTRIBUTES_DOMAIN)\n",
    "\n",
    "def custom_similarity_vs(data_pt1, data_pt2):\n",
    "    return calculate_similarity_vs(data_pt1, data_pt2, ATTRIBUTES_TYPES, FREQUENCY_DICT, TYPE_SIMILARITY, ATTRIBUTES_DOMAIN)\n"
   ]
  },
  {
   "cell_type": "code",
   "execution_count": 21,
   "metadata": {},
   "outputs": [],
   "source": [
    "from sklearn.cluster import SpectralClustering\n",
    "# from sklearn.cluster import HierarchicalClustering\n",
    "from sklearn.metrics import accuracy_score\n",
    "from sklearn.metrics import adjusted_rand_score, adjusted_mutual_info_score, normalized_mutual_info_score\n",
    "\n",
    "import numpy as np\n",
    "\n",
    "\n",
    "spectralClustering = SpectralClustering(n_clusters=5, affinity='precomputed', random_state=0)"
   ]
  },
  {
   "cell_type": "markdown",
   "metadata": {},
   "source": [
    "## Without Messing Data"
   ]
  },
  {
   "cell_type": "code",
   "execution_count": 263,
   "metadata": {},
   "outputs": [],
   "source": [
    "# Compute pairwise similarities\n",
    "similarity_matrix = pairwise_similarity(sub_data, metric=custom_similarity)"
   ]
  },
  {
   "cell_type": "code",
   "execution_count": 264,
   "metadata": {},
   "outputs": [
    {
     "name": "stdout",
     "output_type": "stream",
     "text": [
      "Spectral Clustering\n",
      "Cluster 0: 29.00%\n",
      "Cluster 1: 17.00%\n",
      "Cluster 2: 8.00%\n",
      "Cluster 3: 33.00%\n",
      "Cluster 4: 13.00%\n"
     ]
    }
   ],
   "source": [
    "# Spectral Clustering\n",
    "clusters = spectralClustering.fit_predict(similarity_matrix)\n",
    "\n",
    "# % of data points in each cluster\n",
    "print('Spectral Clustering')\n",
    "for i in range(5):\n",
    "    print('Cluster {}: {:.2f}%'.format(i, np.count_nonzero(clusters == i) / len(clusters) * 100))"
   ]
  },
  {
   "cell_type": "markdown",
   "metadata": {},
   "source": [
    "### With 5% of Messing Data"
   ]
  },
  {
   "cell_type": "code",
   "execution_count": null,
   "metadata": {},
   "outputs": [],
   "source": [
    "_5per_missing = remove_random_values(sub_data, 0.05, escape_cols=[attr for attr in sub_data.columns if attr not in ATTRIBUTES_TYPES])"
   ]
  },
  {
   "cell_type": "code",
   "execution_count": null,
   "metadata": {},
   "outputs": [],
   "source": [
    "my_5per_similarity_matrix = pairwise_similarity(_5per_missing, metric=custom_similarity)"
   ]
  },
  {
   "cell_type": "code",
   "execution_count": null,
   "metadata": {},
   "outputs": [],
   "source": [
    "my_5per_clusters = spectralClustering.fit_predict(my_5per_similarity_matrix)\n",
    "\n",
    "print('Spectral Clustering with 5% Missing Data')\n",
    "\n",
    "# cluster: % of data points in each cluster\n",
    "for i in range(5):\n",
    "    print('Cluster {}: {:.2f}%'.format(i, np.count_nonzero(my_5per_clusters == i) / len(my_5per_clusters) * 100))\n",
    "\n",
    "# Comparing using ARI and AMI\n",
    "ari_score = adjusted_rand_score(clusters, my_5per_clusters)\n",
    "ami_score = adjusted_mutual_info_score(clusters, my_5per_clusters)\n",
    "\n",
    "print(\"Adjusted Rand Index:\", ari_score)\n",
    "print(\"Adjusted Mutual Information:\", ami_score)\n",
    "\n"
   ]
  },
  {
   "cell_type": "code",
   "execution_count": null,
   "metadata": {},
   "outputs": [],
   "source": [
    "vs_5per_similarity_matrix = pairwise_similarity(_5per_missing, metric=custom_similarity_vs)"
   ]
  },
  {
   "cell_type": "code",
   "execution_count": null,
   "metadata": {},
   "outputs": [],
   "source": [
    "vs_5per_clusters = spectralClustering.fit_predict(vs_5per_similarity_matrix)\n",
    "\n",
    "print('Spectral Clustering')\n",
    "# cluster: % of data points in each cluster\n",
    "for i in range(5):\n",
    "    print('Cluster {}: {:.2f}%'.format(i, np.count_nonzero(vs_5per_clusters == i) / len(vs_5per_clusters) * 100))\n",
    "\n",
    "# Comparing using ARI and AMI\n",
    "ari_score = adjusted_rand_score(clusters, vs_5per_clusters)\n",
    "ami_score = adjusted_mutual_info_score(clusters, vs_5per_clusters)\n",
    "\n",
    "print(\"Adjusted Rand Index:\", ari_score)\n",
    "print(\"Adjusted Mutual Information:\", ami_score)"
   ]
  },
  {
   "cell_type": "markdown",
   "metadata": {},
   "source": [
    "### With 10% of Messing Data"
   ]
  },
  {
   "cell_type": "code",
   "execution_count": null,
   "metadata": {},
   "outputs": [],
   "source": [
    "_10per_missing = remove_random_values(sub_data, 0.1, escape_cols=[attr for attr in sub_data.columns if attr not in ATTRIBUTES_TYPES])"
   ]
  },
  {
   "cell_type": "code",
   "execution_count": null,
   "metadata": {},
   "outputs": [],
   "source": [
    "my_10per_similarity_matrix = pairwise_similarity(_10per_missing, metric=custom_similarity)"
   ]
  },
  {
   "cell_type": "code",
   "execution_count": null,
   "metadata": {},
   "outputs": [],
   "source": [
    "my_10per_clusters = spectralClustering.fit_predict(my_10per_similarity_matrix)\n",
    "\n",
    "print('Spectral Clustering with 10% Missing Data')\n",
    "# cluster: % of data points in each cluster\n",
    "for i in range(5):\n",
    "    print('Cluster {}: {:.2f}%'.format(i, np.count_nonzero(my_10per_clusters == i) / len(my_10per_clusters) * 100))\n",
    "    \n",
    "# Comparing using ARI and AMI\n",
    "ari_score = adjusted_rand_score(clusters, my_10per_clusters)\n",
    "ami_score = adjusted_mutual_info_score(clusters, my_10per_clusters)\n",
    "\n",
    "print(\"Adjusted Rand Index:\", ari_score)\n",
    "print(\"Adjusted Mutual Information:\", ami_score)\n"
   ]
  },
  {
   "cell_type": "code",
   "execution_count": null,
   "metadata": {},
   "outputs": [],
   "source": [
    "vs_10per_similarity_matrix = pairwise_similarity(_10per_missing, metric=custom_similarity_vs)"
   ]
  },
  {
   "cell_type": "code",
   "execution_count": null,
   "metadata": {},
   "outputs": [],
   "source": [
    "vs_10per_clusters = spectralClustering.fit_predict(vs_10per_similarity_matrix)\n",
    "\n",
    "print('Spectral Clustering')\n",
    "# cluster: % of data points in each cluster\n",
    "for i in range(5):\n",
    "    print('Cluster {}: {:.2f}%'.format(i, np.count_nonzero(vs_10per_clusters == i) / len(vs_10per_clusters) * 100))\n",
    "    \n",
    "# Comparing using ARI and AMI\n",
    "ari_score = adjusted_rand_score(clusters, vs_10per_clusters)\n",
    "ami_score = adjusted_mutual_info_score(clusters, vs_10per_clusters)\n",
    "\n",
    "print(\"Adjusted Rand Index:\", ari_score)\n",
    "print(\"Adjusted Mutual Information:\", ami_score)"
   ]
  },
  {
   "cell_type": "code",
   "execution_count": null,
   "metadata": {},
   "outputs": [],
   "source": [
    "print(clusters[:30])\n",
    "print(my_10per_clusters[:30])\n",
    "print(vs_10per_clusters[:30])"
   ]
  },
  {
   "cell_type": "markdown",
   "metadata": {},
   "source": [
    "## Main Spetral"
   ]
  },
  {
   "cell_type": "code",
   "execution_count": 27,
   "metadata": {},
   "outputs": [],
   "source": [
    "mainSpetral = SpectralClustering(n_clusters=4, affinity='precomputed', random_state=0)\n",
    "\n",
    "\n",
    "similarity_matrix = pairwise_similarity(sub_data, metric=custom_similarity)\n",
    "clusters_S = mainSpetral.fit_predict(similarity_matrix)"
   ]
  },
  {
   "cell_type": "code",
   "execution_count": 26,
   "metadata": {},
   "outputs": [],
   "source": [
    "def spectral_clustering(data, per_of_missing):\n",
    "    \n",
    "    _per_missing = remove_random_values(data, per_of_missing, escape_cols=[attr for attr in sub_data.columns if attr not in ATTRIBUTES_TYPES])\n",
    "    \n",
    "    _per_similarity_matrix = pairwise_similarity(_per_missing, metric=custom_similarity)\n",
    "    # replace any Nan or inf with 0\n",
    "    _per_similarity_matrix = np.nan_to_num(_per_similarity_matrix, nan=0, posinf=0, neginf=0)\n",
    "    _per_clusters = mainSpetral.fit_predict(_per_similarity_matrix)\n",
    "    \n",
    "    per_data_in_clusters = []\n",
    "    for i in range(5):\n",
    "        per_data_in_clusters.append(np.count_nonzero(_per_clusters == i) / len(_per_clusters) * 100)\n",
    "    \n",
    "    ari_score = adjusted_rand_score(clusters_S, _per_clusters)\n",
    "    ami_score = adjusted_mutual_info_score(clusters_S, _per_clusters)\n",
    "\n",
    "    return per_data_in_clusters, ari_score, ami_score\n",
    "\n",
    "def spectral_clustering_vs(data, per_of_missing):\n",
    "    \n",
    "    _per_missing = remove_random_values(data, per_of_missing, escape_cols=[attr for attr in sub_data.columns if attr not in ATTRIBUTES_TYPES])\n",
    "    \n",
    "    vs_per_similarity_matrix = pairwise_similarity(_per_missing, metric=custom_similarity_vs)\n",
    "    vs_per_clusters = mainSpetral.fit_predict(vs_per_similarity_matrix)\n",
    "    \n",
    "    per_data_in_clusters_vs = []\n",
    "    for i in range(5):\n",
    "        per_data_in_clusters_vs.append(np.count_nonzero(vs_per_clusters == i) / len(vs_per_clusters) * 100)\n",
    "    \n",
    "    aris_score_vs = adjusted_rand_score(clusters_S, vs_per_clusters)\n",
    "    amis_score_vs = adjusted_mutual_info_score(clusters_S, vs_per_clusters)\n",
    "    \n",
    "\n",
    "    return per_data_in_clusters_vs, aris_score_vs, amis_score_vs\n",
    "\n",
    "def print_results(per_data_in_clusters, ari_score, ami_score):\n",
    "    print('Spectral Clustering')\n",
    "    # cluster: % of data points in each cluster\n",
    "    for i in range(5):\n",
    "        print('Cluster {}: {:.2f}%'.format(i, per_data_in_clusters[i]))\n",
    "        \n",
    "    # Comparing using ARI and AMI\n",
    "    print(\"Adjusted Rand Index:\", ari_score)\n",
    "    print(\"Adjusted Mutual Information:\", ami_score)"
   ]
  },
  {
   "cell_type": "code",
   "execution_count": 28,
   "metadata": {},
   "outputs": [
    {
     "name": "stderr",
     "output_type": "stream",
     "text": [
      "/home/hamza/Data/phd/STARWARS/project/.venv/lib/python3.10/site-packages/scipy/sparse/csgraph/_laplacian.py:546: RuntimeWarning: invalid value encountered in sqrt\n",
      "  w = np.where(isolated_node_mask, 1, np.sqrt(w))\n"
     ]
    },
    {
     "ename": "ValueError",
     "evalue": "array must not contain infs or NaNs",
     "output_type": "error",
     "traceback": [
      "\u001b[0;31m---------------------------------------------------------------------------\u001b[0m",
      "\u001b[0;31mValueError\u001b[0m                                Traceback (most recent call last)",
      "Cell \u001b[0;32mIn[28], line 18\u001b[0m\n\u001b[1;32m     15\u001b[0m \u001b[38;5;66;03m# Loop through the percentages and call your functions\u001b[39;00m\n\u001b[1;32m     16\u001b[0m \u001b[38;5;28;01mfor\u001b[39;00m per_of_missing \u001b[38;5;129;01min\u001b[39;00m percentages:\n\u001b[1;32m     17\u001b[0m     \u001b[38;5;66;03m# Call spectral_clustering and spectral_clustering_vs functions\u001b[39;00m\n\u001b[0;32m---> 18\u001b[0m     per_data, ari, ami \u001b[38;5;241m=\u001b[39m \u001b[43mspectral_clustering\u001b[49m\u001b[43m(\u001b[49m\u001b[43msub_data\u001b[49m\u001b[43m,\u001b[49m\u001b[43m \u001b[49m\u001b[43mper_of_missing\u001b[49m\u001b[38;5;241;43m/\u001b[39;49m\u001b[38;5;241;43m100\u001b[39;49m\u001b[43m)\u001b[49m\n\u001b[1;32m     19\u001b[0m     per_data_vs, ari_vs, ami_vs \u001b[38;5;241m=\u001b[39m spectral_clustering_vs(sub_data, per_of_missing\u001b[38;5;241m/\u001b[39m\u001b[38;5;241m100\u001b[39m)\n\u001b[1;32m     21\u001b[0m     \u001b[38;5;66;03m# Append results to respective lists\u001b[39;00m\n",
      "Cell \u001b[0;32mIn[26], line 8\u001b[0m, in \u001b[0;36mspectral_clustering\u001b[0;34m(data, per_of_missing)\u001b[0m\n\u001b[1;32m      6\u001b[0m \u001b[38;5;66;03m# replace any Nan or inf with 0\u001b[39;00m\n\u001b[1;32m      7\u001b[0m _per_similarity_matrix \u001b[38;5;241m=\u001b[39m np\u001b[38;5;241m.\u001b[39mnan_to_num(_per_similarity_matrix, nan\u001b[38;5;241m=\u001b[39m\u001b[38;5;241m0\u001b[39m, posinf\u001b[38;5;241m=\u001b[39m\u001b[38;5;241m0\u001b[39m, neginf\u001b[38;5;241m=\u001b[39m\u001b[38;5;241m0\u001b[39m)\n\u001b[0;32m----> 8\u001b[0m _per_clusters \u001b[38;5;241m=\u001b[39m \u001b[43mmainSpetral\u001b[49m\u001b[38;5;241;43m.\u001b[39;49m\u001b[43mfit_predict\u001b[49m\u001b[43m(\u001b[49m\u001b[43m_per_similarity_matrix\u001b[49m\u001b[43m)\u001b[49m\n\u001b[1;32m     10\u001b[0m per_data_in_clusters \u001b[38;5;241m=\u001b[39m []\n\u001b[1;32m     11\u001b[0m \u001b[38;5;28;01mfor\u001b[39;00m i \u001b[38;5;129;01min\u001b[39;00m \u001b[38;5;28mrange\u001b[39m(\u001b[38;5;241m5\u001b[39m):\n",
      "File \u001b[0;32m~/Data/phd/STARWARS/project/.venv/lib/python3.10/site-packages/sklearn/cluster/_spectral.py:778\u001b[0m, in \u001b[0;36mSpectralClustering.fit_predict\u001b[0;34m(self, X, y)\u001b[0m\n\u001b[1;32m    756\u001b[0m \u001b[38;5;28;01mdef\u001b[39;00m \u001b[38;5;21mfit_predict\u001b[39m(\u001b[38;5;28mself\u001b[39m, X, y\u001b[38;5;241m=\u001b[39m\u001b[38;5;28;01mNone\u001b[39;00m):\n\u001b[1;32m    757\u001b[0m \u001b[38;5;250m    \u001b[39m\u001b[38;5;124;03m\"\"\"Perform spectral clustering on `X` and return cluster labels.\u001b[39;00m\n\u001b[1;32m    758\u001b[0m \n\u001b[1;32m    759\u001b[0m \u001b[38;5;124;03m    Parameters\u001b[39;00m\n\u001b[0;32m   (...)\u001b[0m\n\u001b[1;32m    776\u001b[0m \u001b[38;5;124;03m        Cluster labels.\u001b[39;00m\n\u001b[1;32m    777\u001b[0m \u001b[38;5;124;03m    \"\"\"\u001b[39;00m\n\u001b[0;32m--> 778\u001b[0m     \u001b[38;5;28;01mreturn\u001b[39;00m \u001b[38;5;28;43msuper\u001b[39;49m\u001b[43m(\u001b[49m\u001b[43m)\u001b[49m\u001b[38;5;241;43m.\u001b[39;49m\u001b[43mfit_predict\u001b[49m\u001b[43m(\u001b[49m\u001b[43mX\u001b[49m\u001b[43m,\u001b[49m\u001b[43m \u001b[49m\u001b[43my\u001b[49m\u001b[43m)\u001b[49m\n",
      "File \u001b[0;32m~/Data/phd/STARWARS/project/.venv/lib/python3.10/site-packages/sklearn/base.py:790\u001b[0m, in \u001b[0;36mClusterMixin.fit_predict\u001b[0;34m(self, X, y)\u001b[0m\n\u001b[1;32m    772\u001b[0m \u001b[38;5;250m\u001b[39m\u001b[38;5;124;03m\"\"\"\u001b[39;00m\n\u001b[1;32m    773\u001b[0m \u001b[38;5;124;03mPerform clustering on `X` and returns cluster labels.\u001b[39;00m\n\u001b[1;32m    774\u001b[0m \n\u001b[0;32m   (...)\u001b[0m\n\u001b[1;32m    786\u001b[0m \u001b[38;5;124;03m    Cluster labels.\u001b[39;00m\n\u001b[1;32m    787\u001b[0m \u001b[38;5;124;03m\"\"\"\u001b[39;00m\n\u001b[1;32m    788\u001b[0m \u001b[38;5;66;03m# non-optimized default implementation; override when a better\u001b[39;00m\n\u001b[1;32m    789\u001b[0m \u001b[38;5;66;03m# method is possible for a given clustering algorithm\u001b[39;00m\n\u001b[0;32m--> 790\u001b[0m \u001b[38;5;28;43mself\u001b[39;49m\u001b[38;5;241;43m.\u001b[39;49m\u001b[43mfit\u001b[49m\u001b[43m(\u001b[49m\u001b[43mX\u001b[49m\u001b[43m)\u001b[49m\n\u001b[1;32m    791\u001b[0m \u001b[38;5;28;01mreturn\u001b[39;00m \u001b[38;5;28mself\u001b[39m\u001b[38;5;241m.\u001b[39mlabels_\n",
      "File \u001b[0;32m~/Data/phd/STARWARS/project/.venv/lib/python3.10/site-packages/sklearn/base.py:1151\u001b[0m, in \u001b[0;36m_fit_context.<locals>.decorator.<locals>.wrapper\u001b[0;34m(estimator, *args, **kwargs)\u001b[0m\n\u001b[1;32m   1144\u001b[0m     estimator\u001b[38;5;241m.\u001b[39m_validate_params()\n\u001b[1;32m   1146\u001b[0m \u001b[38;5;28;01mwith\u001b[39;00m config_context(\n\u001b[1;32m   1147\u001b[0m     skip_parameter_validation\u001b[38;5;241m=\u001b[39m(\n\u001b[1;32m   1148\u001b[0m         prefer_skip_nested_validation \u001b[38;5;129;01mor\u001b[39;00m global_skip_validation\n\u001b[1;32m   1149\u001b[0m     )\n\u001b[1;32m   1150\u001b[0m ):\n\u001b[0;32m-> 1151\u001b[0m     \u001b[38;5;28;01mreturn\u001b[39;00m \u001b[43mfit_method\u001b[49m\u001b[43m(\u001b[49m\u001b[43mestimator\u001b[49m\u001b[43m,\u001b[49m\u001b[43m \u001b[49m\u001b[38;5;241;43m*\u001b[39;49m\u001b[43margs\u001b[49m\u001b[43m,\u001b[49m\u001b[43m \u001b[49m\u001b[38;5;241;43m*\u001b[39;49m\u001b[38;5;241;43m*\u001b[39;49m\u001b[43mkwargs\u001b[49m\u001b[43m)\u001b[49m\n",
      "File \u001b[0;32m~/Data/phd/STARWARS/project/.venv/lib/python3.10/site-packages/sklearn/cluster/_spectral.py:730\u001b[0m, in \u001b[0;36mSpectralClustering.fit\u001b[0;34m(self, X, y)\u001b[0m\n\u001b[1;32m    721\u001b[0m n_components \u001b[38;5;241m=\u001b[39m (\n\u001b[1;32m    722\u001b[0m     \u001b[38;5;28mself\u001b[39m\u001b[38;5;241m.\u001b[39mn_clusters \u001b[38;5;28;01mif\u001b[39;00m \u001b[38;5;28mself\u001b[39m\u001b[38;5;241m.\u001b[39mn_components \u001b[38;5;129;01mis\u001b[39;00m \u001b[38;5;28;01mNone\u001b[39;00m \u001b[38;5;28;01melse\u001b[39;00m \u001b[38;5;28mself\u001b[39m\u001b[38;5;241m.\u001b[39mn_components\n\u001b[1;32m    723\u001b[0m )\n\u001b[1;32m    724\u001b[0m \u001b[38;5;66;03m# We now obtain the real valued solution matrix to the\u001b[39;00m\n\u001b[1;32m    725\u001b[0m \u001b[38;5;66;03m# relaxed Ncut problem, solving the eigenvalue problem\u001b[39;00m\n\u001b[1;32m    726\u001b[0m \u001b[38;5;66;03m# L_sym x = lambda x  and recovering u = D^-1/2 x.\u001b[39;00m\n\u001b[1;32m    727\u001b[0m \u001b[38;5;66;03m# The first eigenvector is constant only for fully connected graphs\u001b[39;00m\n\u001b[1;32m    728\u001b[0m \u001b[38;5;66;03m# and should be kept for spectral clustering (drop_first = False)\u001b[39;00m\n\u001b[1;32m    729\u001b[0m \u001b[38;5;66;03m# See spectral_embedding documentation.\u001b[39;00m\n\u001b[0;32m--> 730\u001b[0m maps \u001b[38;5;241m=\u001b[39m \u001b[43mspectral_embedding\u001b[49m\u001b[43m(\u001b[49m\n\u001b[1;32m    731\u001b[0m \u001b[43m    \u001b[49m\u001b[38;5;28;43mself\u001b[39;49m\u001b[38;5;241;43m.\u001b[39;49m\u001b[43maffinity_matrix_\u001b[49m\u001b[43m,\u001b[49m\n\u001b[1;32m    732\u001b[0m \u001b[43m    \u001b[49m\u001b[43mn_components\u001b[49m\u001b[38;5;241;43m=\u001b[39;49m\u001b[43mn_components\u001b[49m\u001b[43m,\u001b[49m\n\u001b[1;32m    733\u001b[0m \u001b[43m    \u001b[49m\u001b[43meigen_solver\u001b[49m\u001b[38;5;241;43m=\u001b[39;49m\u001b[38;5;28;43mself\u001b[39;49m\u001b[38;5;241;43m.\u001b[39;49m\u001b[43meigen_solver\u001b[49m\u001b[43m,\u001b[49m\n\u001b[1;32m    734\u001b[0m \u001b[43m    \u001b[49m\u001b[43mrandom_state\u001b[49m\u001b[38;5;241;43m=\u001b[39;49m\u001b[43mrandom_state\u001b[49m\u001b[43m,\u001b[49m\n\u001b[1;32m    735\u001b[0m \u001b[43m    \u001b[49m\u001b[43meigen_tol\u001b[49m\u001b[38;5;241;43m=\u001b[39;49m\u001b[38;5;28;43mself\u001b[39;49m\u001b[38;5;241;43m.\u001b[39;49m\u001b[43meigen_tol\u001b[49m\u001b[43m,\u001b[49m\n\u001b[1;32m    736\u001b[0m \u001b[43m    \u001b[49m\u001b[43mdrop_first\u001b[49m\u001b[38;5;241;43m=\u001b[39;49m\u001b[38;5;28;43;01mFalse\u001b[39;49;00m\u001b[43m,\u001b[49m\n\u001b[1;32m    737\u001b[0m \u001b[43m\u001b[49m\u001b[43m)\u001b[49m\n\u001b[1;32m    738\u001b[0m \u001b[38;5;28;01mif\u001b[39;00m \u001b[38;5;28mself\u001b[39m\u001b[38;5;241m.\u001b[39mverbose:\n\u001b[1;32m    739\u001b[0m     \u001b[38;5;28mprint\u001b[39m(\u001b[38;5;124mf\u001b[39m\u001b[38;5;124m\"\u001b[39m\u001b[38;5;124mComputing label assignment using \u001b[39m\u001b[38;5;132;01m{\u001b[39;00m\u001b[38;5;28mself\u001b[39m\u001b[38;5;241m.\u001b[39massign_labels\u001b[38;5;132;01m}\u001b[39;00m\u001b[38;5;124m\"\u001b[39m)\n",
      "File \u001b[0;32m~/Data/phd/STARWARS/project/.venv/lib/python3.10/site-packages/sklearn/manifold/_spectral_embedding.py:313\u001b[0m, in \u001b[0;36mspectral_embedding\u001b[0;34m(adjacency, n_components, eigen_solver, random_state, eigen_tol, norm_laplacian, drop_first)\u001b[0m\n\u001b[1;32m    311\u001b[0m laplacian \u001b[38;5;241m*\u001b[39m\u001b[38;5;241m=\u001b[39m \u001b[38;5;241m-\u001b[39m\u001b[38;5;241m1\u001b[39m\n\u001b[1;32m    312\u001b[0m v0 \u001b[38;5;241m=\u001b[39m _init_arpack_v0(laplacian\u001b[38;5;241m.\u001b[39mshape[\u001b[38;5;241m0\u001b[39m], random_state)\n\u001b[0;32m--> 313\u001b[0m _, diffusion_map \u001b[38;5;241m=\u001b[39m \u001b[43meigsh\u001b[49m\u001b[43m(\u001b[49m\n\u001b[1;32m    314\u001b[0m \u001b[43m    \u001b[49m\u001b[43mlaplacian\u001b[49m\u001b[43m,\u001b[49m\u001b[43m \u001b[49m\u001b[43mk\u001b[49m\u001b[38;5;241;43m=\u001b[39;49m\u001b[43mn_components\u001b[49m\u001b[43m,\u001b[49m\u001b[43m \u001b[49m\u001b[43msigma\u001b[49m\u001b[38;5;241;43m=\u001b[39;49m\u001b[38;5;241;43m1.0\u001b[39;49m\u001b[43m,\u001b[49m\u001b[43m \u001b[49m\u001b[43mwhich\u001b[49m\u001b[38;5;241;43m=\u001b[39;49m\u001b[38;5;124;43m\"\u001b[39;49m\u001b[38;5;124;43mLM\u001b[39;49m\u001b[38;5;124;43m\"\u001b[39;49m\u001b[43m,\u001b[49m\u001b[43m \u001b[49m\u001b[43mtol\u001b[49m\u001b[38;5;241;43m=\u001b[39;49m\u001b[43mtol\u001b[49m\u001b[43m,\u001b[49m\u001b[43m \u001b[49m\u001b[43mv0\u001b[49m\u001b[38;5;241;43m=\u001b[39;49m\u001b[43mv0\u001b[49m\n\u001b[1;32m    315\u001b[0m \u001b[43m\u001b[49m\u001b[43m)\u001b[49m\n\u001b[1;32m    316\u001b[0m embedding \u001b[38;5;241m=\u001b[39m diffusion_map\u001b[38;5;241m.\u001b[39mT[n_components::\u001b[38;5;241m-\u001b[39m\u001b[38;5;241m1\u001b[39m]\n\u001b[1;32m    317\u001b[0m \u001b[38;5;28;01mif\u001b[39;00m norm_laplacian:\n\u001b[1;32m    318\u001b[0m     \u001b[38;5;66;03m# recover u = D^-1/2 x from the eigenvector output x\u001b[39;00m\n",
      "File \u001b[0;32m~/Data/phd/STARWARS/project/.venv/lib/python3.10/site-packages/scipy/sparse/linalg/_eigen/arpack/arpack.py:1651\u001b[0m, in \u001b[0;36meigsh\u001b[0;34m(A, k, M, sigma, which, v0, ncv, maxiter, tol, return_eigenvectors, Minv, OPinv, mode)\u001b[0m\n\u001b[1;32m   1649\u001b[0m matvec \u001b[38;5;241m=\u001b[39m \u001b[38;5;28;01mNone\u001b[39;00m\n\u001b[1;32m   1650\u001b[0m \u001b[38;5;28;01mif\u001b[39;00m OPinv \u001b[38;5;129;01mis\u001b[39;00m \u001b[38;5;28;01mNone\u001b[39;00m:\n\u001b[0;32m-> 1651\u001b[0m     Minv_matvec \u001b[38;5;241m=\u001b[39m \u001b[43mget_OPinv_matvec\u001b[49m\u001b[43m(\u001b[49m\u001b[43mA\u001b[49m\u001b[43m,\u001b[49m\u001b[43m \u001b[49m\u001b[43mM\u001b[49m\u001b[43m,\u001b[49m\u001b[43m \u001b[49m\u001b[43msigma\u001b[49m\u001b[43m,\u001b[49m\n\u001b[1;32m   1652\u001b[0m \u001b[43m                                   \u001b[49m\u001b[43mhermitian\u001b[49m\u001b[38;5;241;43m=\u001b[39;49m\u001b[38;5;28;43;01mTrue\u001b[39;49;00m\u001b[43m,\u001b[49m\u001b[43m \u001b[49m\u001b[43mtol\u001b[49m\u001b[38;5;241;43m=\u001b[39;49m\u001b[43mtol\u001b[49m\u001b[43m)\u001b[49m\n\u001b[1;32m   1653\u001b[0m \u001b[38;5;28;01melse\u001b[39;00m:\n\u001b[1;32m   1654\u001b[0m     OPinv \u001b[38;5;241m=\u001b[39m _aslinearoperator_with_dtype(OPinv)\n",
      "File \u001b[0;32m~/Data/phd/STARWARS/project/.venv/lib/python3.10/site-packages/scipy/sparse/linalg/_eigen/arpack/arpack.py:1074\u001b[0m, in \u001b[0;36mget_OPinv_matvec\u001b[0;34m(A, M, sigma, hermitian, tol)\u001b[0m\n\u001b[1;32m   1072\u001b[0m         A \u001b[38;5;241m=\u001b[39m A \u001b[38;5;241m+\u001b[39m \u001b[38;5;241m0\u001b[39mj\n\u001b[1;32m   1073\u001b[0m     A\u001b[38;5;241m.\u001b[39mflat[::A\u001b[38;5;241m.\u001b[39mshape[\u001b[38;5;241m1\u001b[39m] \u001b[38;5;241m+\u001b[39m \u001b[38;5;241m1\u001b[39m] \u001b[38;5;241m-\u001b[39m\u001b[38;5;241m=\u001b[39m sigma\n\u001b[0;32m-> 1074\u001b[0m     \u001b[38;5;28;01mreturn\u001b[39;00m \u001b[43mLuInv\u001b[49m\u001b[43m(\u001b[49m\u001b[43mA\u001b[49m\u001b[43m)\u001b[49m\u001b[38;5;241m.\u001b[39mmatvec\n\u001b[1;32m   1075\u001b[0m \u001b[38;5;28;01melif\u001b[39;00m issparse(A) \u001b[38;5;129;01mor\u001b[39;00m is_pydata_spmatrix(A):\n\u001b[1;32m   1076\u001b[0m     A \u001b[38;5;241m=\u001b[39m A \u001b[38;5;241m-\u001b[39m sigma \u001b[38;5;241m*\u001b[39m eye(A\u001b[38;5;241m.\u001b[39mshape[\u001b[38;5;241m0\u001b[39m])\n",
      "File \u001b[0;32m~/Data/phd/STARWARS/project/.venv/lib/python3.10/site-packages/scipy/sparse/linalg/_eigen/arpack/arpack.py:939\u001b[0m, in \u001b[0;36mLuInv.__init__\u001b[0;34m(self, M)\u001b[0m\n\u001b[1;32m    938\u001b[0m \u001b[38;5;28;01mdef\u001b[39;00m \u001b[38;5;21m__init__\u001b[39m(\u001b[38;5;28mself\u001b[39m, M):\n\u001b[0;32m--> 939\u001b[0m     \u001b[38;5;28mself\u001b[39m\u001b[38;5;241m.\u001b[39mM_lu \u001b[38;5;241m=\u001b[39m \u001b[43mlu_factor\u001b[49m\u001b[43m(\u001b[49m\u001b[43mM\u001b[49m\u001b[43m)\u001b[49m\n\u001b[1;32m    940\u001b[0m     \u001b[38;5;28mself\u001b[39m\u001b[38;5;241m.\u001b[39mshape \u001b[38;5;241m=\u001b[39m M\u001b[38;5;241m.\u001b[39mshape\n\u001b[1;32m    941\u001b[0m     \u001b[38;5;28mself\u001b[39m\u001b[38;5;241m.\u001b[39mdtype \u001b[38;5;241m=\u001b[39m M\u001b[38;5;241m.\u001b[39mdtype\n",
      "File \u001b[0;32m~/Data/phd/STARWARS/project/.venv/lib/python3.10/site-packages/scipy/linalg/_decomp_lu.py:79\u001b[0m, in \u001b[0;36mlu_factor\u001b[0;34m(a, overwrite_a, check_finite)\u001b[0m\n\u001b[1;32m     21\u001b[0m \u001b[38;5;250m\u001b[39m\u001b[38;5;124;03m\"\"\"\u001b[39;00m\n\u001b[1;32m     22\u001b[0m \u001b[38;5;124;03mCompute pivoted LU decomposition of a matrix.\u001b[39;00m\n\u001b[1;32m     23\u001b[0m \n\u001b[0;32m   (...)\u001b[0m\n\u001b[1;32m     76\u001b[0m \u001b[38;5;124;03mTrue\u001b[39;00m\n\u001b[1;32m     77\u001b[0m \u001b[38;5;124;03m\"\"\"\u001b[39;00m\n\u001b[1;32m     78\u001b[0m \u001b[38;5;28;01mif\u001b[39;00m check_finite:\n\u001b[0;32m---> 79\u001b[0m     a1 \u001b[38;5;241m=\u001b[39m \u001b[43masarray_chkfinite\u001b[49m\u001b[43m(\u001b[49m\u001b[43ma\u001b[49m\u001b[43m)\u001b[49m\n\u001b[1;32m     80\u001b[0m \u001b[38;5;28;01melse\u001b[39;00m:\n\u001b[1;32m     81\u001b[0m     a1 \u001b[38;5;241m=\u001b[39m asarray(a)\n",
      "File \u001b[0;32m~/Data/phd/STARWARS/project/.venv/lib/python3.10/site-packages/numpy/lib/function_base.py:630\u001b[0m, in \u001b[0;36masarray_chkfinite\u001b[0;34m(a, dtype, order)\u001b[0m\n\u001b[1;32m    628\u001b[0m a \u001b[38;5;241m=\u001b[39m asarray(a, dtype\u001b[38;5;241m=\u001b[39mdtype, order\u001b[38;5;241m=\u001b[39morder)\n\u001b[1;32m    629\u001b[0m \u001b[38;5;28;01mif\u001b[39;00m a\u001b[38;5;241m.\u001b[39mdtype\u001b[38;5;241m.\u001b[39mchar \u001b[38;5;129;01min\u001b[39;00m typecodes[\u001b[38;5;124m'\u001b[39m\u001b[38;5;124mAllFloat\u001b[39m\u001b[38;5;124m'\u001b[39m] \u001b[38;5;129;01mand\u001b[39;00m \u001b[38;5;129;01mnot\u001b[39;00m np\u001b[38;5;241m.\u001b[39misfinite(a)\u001b[38;5;241m.\u001b[39mall():\n\u001b[0;32m--> 630\u001b[0m     \u001b[38;5;28;01mraise\u001b[39;00m \u001b[38;5;167;01mValueError\u001b[39;00m(\n\u001b[1;32m    631\u001b[0m         \u001b[38;5;124m\"\u001b[39m\u001b[38;5;124marray must not contain infs or NaNs\u001b[39m\u001b[38;5;124m\"\u001b[39m)\n\u001b[1;32m    632\u001b[0m \u001b[38;5;28;01mreturn\u001b[39;00m a\n",
      "\u001b[0;31mValueError\u001b[0m: array must not contain infs or NaNs"
     ]
    }
   ],
   "source": [
    "import matplotlib.pyplot as plt\n",
    "import numpy as np\n",
    "\n",
    "# Create an array of percentages from 0 to 80\n",
    "percentages = np.arange(0, 81, 10)\n",
    "\n",
    "# Initialize empty lists to store the results for spectral_clustering\n",
    "ari_scores = []\n",
    "ami_scores = []\n",
    "\n",
    "# Initialize empty lists to store the results for spectral_clustering_vs\n",
    "ari_scores_vs = []\n",
    "ami_scores_vs = []\n",
    "\n",
    "# Loop through the percentages and call your functions\n",
    "for per_of_missing in percentages:\n",
    "    # Call spectral_clustering and spectral_clustering_vs functions\n",
    "    per_data, ari, ami = spectral_clustering(sub_data, per_of_missing/100)\n",
    "    per_data_vs, ari_vs, ami_vs = spectral_clustering_vs(sub_data, per_of_missing/100)\n",
    "    \n",
    "    # Append results to respective lists\n",
    "    ari_scores.append(ari)\n",
    "    ami_scores.append(ami)\n",
    "    ari_scores_vs.append(ari_vs)\n",
    "    ami_scores_vs.append(ami_vs)\n",
    "\n"
   ]
  },
  {
   "cell_type": "code",
   "execution_count": 25,
   "metadata": {},
   "outputs": [
    {
     "ename": "ValueError",
     "evalue": "x and y must have same first dimension, but have shapes (9,) and (0,)",
     "output_type": "error",
     "traceback": [
      "\u001b[0;31m---------------------------------------------------------------------------\u001b[0m",
      "\u001b[0;31mValueError\u001b[0m                                Traceback (most recent call last)",
      "Cell \u001b[0;32mIn[25], line 5\u001b[0m\n\u001b[1;32m      2\u001b[0m plt\u001b[38;5;241m.\u001b[39mfigure(figsize\u001b[38;5;241m=\u001b[39m(\u001b[38;5;241m10\u001b[39m, \u001b[38;5;241m5\u001b[39m))\n\u001b[1;32m      4\u001b[0m \u001b[38;5;66;03m# Plot ARI scores for spectral_clustering_vs\u001b[39;00m\n\u001b[0;32m----> 5\u001b[0m \u001b[43mplt\u001b[49m\u001b[38;5;241;43m.\u001b[39;49m\u001b[43mplot\u001b[49m\u001b[43m(\u001b[49m\u001b[43mpercentages\u001b[49m\u001b[43m,\u001b[49m\u001b[43m \u001b[49m\u001b[43mari_scores_vs\u001b[49m\u001b[43m,\u001b[49m\u001b[43m \u001b[49m\u001b[43mmarker\u001b[49m\u001b[38;5;241;43m=\u001b[39;49m\u001b[38;5;124;43m'\u001b[39;49m\u001b[38;5;124;43mo\u001b[39;49m\u001b[38;5;124;43m'\u001b[39;49m\u001b[43m,\u001b[49m\u001b[43m \u001b[49m\u001b[43mlabel\u001b[49m\u001b[38;5;241;43m=\u001b[39;49m\u001b[38;5;124;43m'\u001b[39;49m\u001b[38;5;124;43mARI Score (Our approach)\u001b[39;49m\u001b[38;5;124;43m'\u001b[39;49m\u001b[43m)\u001b[49m\n\u001b[1;32m      7\u001b[0m \u001b[38;5;66;03m# Plot AMI scores for spectral_clustering_vs\u001b[39;00m\n\u001b[1;32m      8\u001b[0m plt\u001b[38;5;241m.\u001b[39mplot(percentages, ami_scores_vs, marker\u001b[38;5;241m=\u001b[39m\u001b[38;5;124m'\u001b[39m\u001b[38;5;124mo\u001b[39m\u001b[38;5;124m'\u001b[39m, label\u001b[38;5;241m=\u001b[39m\u001b[38;5;124m'\u001b[39m\u001b[38;5;124mAMI Score (Our approach)\u001b[39m\u001b[38;5;124m'\u001b[39m)\n",
      "File \u001b[0;32m~/Data/phd/STARWARS/project/.venv/lib/python3.10/site-packages/matplotlib/pyplot.py:2812\u001b[0m, in \u001b[0;36mplot\u001b[0;34m(scalex, scaley, data, *args, **kwargs)\u001b[0m\n\u001b[1;32m   2810\u001b[0m \u001b[38;5;129m@_copy_docstring_and_deprecators\u001b[39m(Axes\u001b[38;5;241m.\u001b[39mplot)\n\u001b[1;32m   2811\u001b[0m \u001b[38;5;28;01mdef\u001b[39;00m \u001b[38;5;21mplot\u001b[39m(\u001b[38;5;241m*\u001b[39margs, scalex\u001b[38;5;241m=\u001b[39m\u001b[38;5;28;01mTrue\u001b[39;00m, scaley\u001b[38;5;241m=\u001b[39m\u001b[38;5;28;01mTrue\u001b[39;00m, data\u001b[38;5;241m=\u001b[39m\u001b[38;5;28;01mNone\u001b[39;00m, \u001b[38;5;241m*\u001b[39m\u001b[38;5;241m*\u001b[39mkwargs):\n\u001b[0;32m-> 2812\u001b[0m     \u001b[38;5;28;01mreturn\u001b[39;00m \u001b[43mgca\u001b[49m\u001b[43m(\u001b[49m\u001b[43m)\u001b[49m\u001b[38;5;241;43m.\u001b[39;49m\u001b[43mplot\u001b[49m\u001b[43m(\u001b[49m\n\u001b[1;32m   2813\u001b[0m \u001b[43m        \u001b[49m\u001b[38;5;241;43m*\u001b[39;49m\u001b[43margs\u001b[49m\u001b[43m,\u001b[49m\u001b[43m \u001b[49m\u001b[43mscalex\u001b[49m\u001b[38;5;241;43m=\u001b[39;49m\u001b[43mscalex\u001b[49m\u001b[43m,\u001b[49m\u001b[43m \u001b[49m\u001b[43mscaley\u001b[49m\u001b[38;5;241;43m=\u001b[39;49m\u001b[43mscaley\u001b[49m\u001b[43m,\u001b[49m\n\u001b[1;32m   2814\u001b[0m \u001b[43m        \u001b[49m\u001b[38;5;241;43m*\u001b[39;49m\u001b[38;5;241;43m*\u001b[39;49m\u001b[43m(\u001b[49m\u001b[43m{\u001b[49m\u001b[38;5;124;43m\"\u001b[39;49m\u001b[38;5;124;43mdata\u001b[39;49m\u001b[38;5;124;43m\"\u001b[39;49m\u001b[43m:\u001b[49m\u001b[43m \u001b[49m\u001b[43mdata\u001b[49m\u001b[43m}\u001b[49m\u001b[43m \u001b[49m\u001b[38;5;28;43;01mif\u001b[39;49;00m\u001b[43m \u001b[49m\u001b[43mdata\u001b[49m\u001b[43m \u001b[49m\u001b[38;5;129;43;01mis\u001b[39;49;00m\u001b[43m \u001b[49m\u001b[38;5;129;43;01mnot\u001b[39;49;00m\u001b[43m \u001b[49m\u001b[38;5;28;43;01mNone\u001b[39;49;00m\u001b[43m \u001b[49m\u001b[38;5;28;43;01melse\u001b[39;49;00m\u001b[43m \u001b[49m\u001b[43m{\u001b[49m\u001b[43m}\u001b[49m\u001b[43m)\u001b[49m\u001b[43m,\u001b[49m\u001b[43m \u001b[49m\u001b[38;5;241;43m*\u001b[39;49m\u001b[38;5;241;43m*\u001b[39;49m\u001b[43mkwargs\u001b[49m\u001b[43m)\u001b[49m\n",
      "File \u001b[0;32m~/Data/phd/STARWARS/project/.venv/lib/python3.10/site-packages/matplotlib/axes/_axes.py:1688\u001b[0m, in \u001b[0;36mAxes.plot\u001b[0;34m(self, scalex, scaley, data, *args, **kwargs)\u001b[0m\n\u001b[1;32m   1445\u001b[0m \u001b[38;5;250m\u001b[39m\u001b[38;5;124;03m\"\"\"\u001b[39;00m\n\u001b[1;32m   1446\u001b[0m \u001b[38;5;124;03mPlot y versus x as lines and/or markers.\u001b[39;00m\n\u001b[1;32m   1447\u001b[0m \n\u001b[0;32m   (...)\u001b[0m\n\u001b[1;32m   1685\u001b[0m \u001b[38;5;124;03m(``'green'``) or hex strings (``'#008000'``).\u001b[39;00m\n\u001b[1;32m   1686\u001b[0m \u001b[38;5;124;03m\"\"\"\u001b[39;00m\n\u001b[1;32m   1687\u001b[0m kwargs \u001b[38;5;241m=\u001b[39m cbook\u001b[38;5;241m.\u001b[39mnormalize_kwargs(kwargs, mlines\u001b[38;5;241m.\u001b[39mLine2D)\n\u001b[0;32m-> 1688\u001b[0m lines \u001b[38;5;241m=\u001b[39m [\u001b[38;5;241m*\u001b[39m\u001b[38;5;28mself\u001b[39m\u001b[38;5;241m.\u001b[39m_get_lines(\u001b[38;5;241m*\u001b[39margs, data\u001b[38;5;241m=\u001b[39mdata, \u001b[38;5;241m*\u001b[39m\u001b[38;5;241m*\u001b[39mkwargs)]\n\u001b[1;32m   1689\u001b[0m \u001b[38;5;28;01mfor\u001b[39;00m line \u001b[38;5;129;01min\u001b[39;00m lines:\n\u001b[1;32m   1690\u001b[0m     \u001b[38;5;28mself\u001b[39m\u001b[38;5;241m.\u001b[39madd_line(line)\n",
      "File \u001b[0;32m~/Data/phd/STARWARS/project/.venv/lib/python3.10/site-packages/matplotlib/axes/_base.py:311\u001b[0m, in \u001b[0;36m_process_plot_var_args.__call__\u001b[0;34m(self, data, *args, **kwargs)\u001b[0m\n\u001b[1;32m    309\u001b[0m     this \u001b[38;5;241m+\u001b[39m\u001b[38;5;241m=\u001b[39m args[\u001b[38;5;241m0\u001b[39m],\n\u001b[1;32m    310\u001b[0m     args \u001b[38;5;241m=\u001b[39m args[\u001b[38;5;241m1\u001b[39m:]\n\u001b[0;32m--> 311\u001b[0m \u001b[38;5;28;01myield from\u001b[39;00m \u001b[38;5;28;43mself\u001b[39;49m\u001b[38;5;241;43m.\u001b[39;49m\u001b[43m_plot_args\u001b[49m\u001b[43m(\u001b[49m\n\u001b[1;32m    312\u001b[0m \u001b[43m    \u001b[49m\u001b[43mthis\u001b[49m\u001b[43m,\u001b[49m\u001b[43m \u001b[49m\u001b[43mkwargs\u001b[49m\u001b[43m,\u001b[49m\u001b[43m \u001b[49m\u001b[43mambiguous_fmt_datakey\u001b[49m\u001b[38;5;241;43m=\u001b[39;49m\u001b[43mambiguous_fmt_datakey\u001b[49m\u001b[43m)\u001b[49m\n",
      "File \u001b[0;32m~/Data/phd/STARWARS/project/.venv/lib/python3.10/site-packages/matplotlib/axes/_base.py:504\u001b[0m, in \u001b[0;36m_process_plot_var_args._plot_args\u001b[0;34m(self, tup, kwargs, return_kwargs, ambiguous_fmt_datakey)\u001b[0m\n\u001b[1;32m    501\u001b[0m     \u001b[38;5;28mself\u001b[39m\u001b[38;5;241m.\u001b[39maxes\u001b[38;5;241m.\u001b[39myaxis\u001b[38;5;241m.\u001b[39mupdate_units(y)\n\u001b[1;32m    503\u001b[0m \u001b[38;5;28;01mif\u001b[39;00m x\u001b[38;5;241m.\u001b[39mshape[\u001b[38;5;241m0\u001b[39m] \u001b[38;5;241m!=\u001b[39m y\u001b[38;5;241m.\u001b[39mshape[\u001b[38;5;241m0\u001b[39m]:\n\u001b[0;32m--> 504\u001b[0m     \u001b[38;5;28;01mraise\u001b[39;00m \u001b[38;5;167;01mValueError\u001b[39;00m(\u001b[38;5;124mf\u001b[39m\u001b[38;5;124m\"\u001b[39m\u001b[38;5;124mx and y must have same first dimension, but \u001b[39m\u001b[38;5;124m\"\u001b[39m\n\u001b[1;32m    505\u001b[0m                      \u001b[38;5;124mf\u001b[39m\u001b[38;5;124m\"\u001b[39m\u001b[38;5;124mhave shapes \u001b[39m\u001b[38;5;132;01m{\u001b[39;00mx\u001b[38;5;241m.\u001b[39mshape\u001b[38;5;132;01m}\u001b[39;00m\u001b[38;5;124m and \u001b[39m\u001b[38;5;132;01m{\u001b[39;00my\u001b[38;5;241m.\u001b[39mshape\u001b[38;5;132;01m}\u001b[39;00m\u001b[38;5;124m\"\u001b[39m)\n\u001b[1;32m    506\u001b[0m \u001b[38;5;28;01mif\u001b[39;00m x\u001b[38;5;241m.\u001b[39mndim \u001b[38;5;241m>\u001b[39m \u001b[38;5;241m2\u001b[39m \u001b[38;5;129;01mor\u001b[39;00m y\u001b[38;5;241m.\u001b[39mndim \u001b[38;5;241m>\u001b[39m \u001b[38;5;241m2\u001b[39m:\n\u001b[1;32m    507\u001b[0m     \u001b[38;5;28;01mraise\u001b[39;00m \u001b[38;5;167;01mValueError\u001b[39;00m(\u001b[38;5;124mf\u001b[39m\u001b[38;5;124m\"\u001b[39m\u001b[38;5;124mx and y can be no greater than 2D, but have \u001b[39m\u001b[38;5;124m\"\u001b[39m\n\u001b[1;32m    508\u001b[0m                      \u001b[38;5;124mf\u001b[39m\u001b[38;5;124m\"\u001b[39m\u001b[38;5;124mshapes \u001b[39m\u001b[38;5;132;01m{\u001b[39;00mx\u001b[38;5;241m.\u001b[39mshape\u001b[38;5;132;01m}\u001b[39;00m\u001b[38;5;124m and \u001b[39m\u001b[38;5;132;01m{\u001b[39;00my\u001b[38;5;241m.\u001b[39mshape\u001b[38;5;132;01m}\u001b[39;00m\u001b[38;5;124m\"\u001b[39m)\n",
      "\u001b[0;31mValueError\u001b[0m: x and y must have same first dimension, but have shapes (9,) and (0,)"
     ]
    },
    {
     "data": {
      "image/png": "[encoded data removed]",
      "text/plain": [
       "<Figure size 1000x500 with 1 Axes>"
      ]
     },
     "metadata": {},
     "output_type": "display_data"
    }
   ],
   "source": [
    "\n",
    "# Create a single plot with both ARI and AMI scores\n",
    "plt.figure(figsize=(10, 5))\n",
    "\n",
    "# Plot ARI scores for spectral_clustering_vs\n",
    "plt.plot(percentages, ari_scores_vs, marker='o', label='ARI Score (Our approach)')\n",
    "\n",
    "# Plot AMI scores for spectral_clustering_vs\n",
    "plt.plot(percentages, ami_scores_vs, marker='o', label='AMI Score (Our approach)')\n",
    "\n",
    "# Plot ARI scores for spectral_clustering\n",
    "plt.plot(percentages, ari_scores, marker='o', label='ARI Score (Standard approach)')\n",
    "\n",
    "# Plot AMI scores for spectral_clustering\n",
    "plt.plot(percentages, ami_scores, marker='o', label='AMI Score (standard approach)')\n",
    "\n",
    "\n",
    "plt.xlabel('% of Missing Values')\n",
    "plt.ylabel('Score')\n",
    "plt.title('ARI and AMI Scores vs % of Missing Values')\n",
    "plt.legend()\n",
    "plt.grid()\n",
    "\n",
    "plt.show()"
   ]
  },
  {
   "cell_type": "markdown",
   "metadata": {},
   "source": [
    "### Main hierarchical"
   ]
  },
  {
   "cell_type": "code",
   "execution_count": null,
   "metadata": {},
   "outputs": [
    {
     "name": "stderr",
     "output_type": "stream",
     "text": [
      "/home/hamza/Data/phd/STARWARS/project/.venv/lib/python3.10/site-packages/scipy/cluster/hierarchy.py:833: ClusterWarning: scipy.cluster: The symmetric non-negative hollow observation matrix looks suspiciously like an uncondensed distance matrix\n",
      "  return linkage(y, method='ward', metric='euclidean')\n"
     ]
    }
   ],
   "source": [
    "from sklearn.cluster import AgglomerativeClustering\n",
    "from sklearn.metrics import adjusted_rand_score, adjusted_mutual_info_score\n",
    "from scipy.spatial.distance import squareform\n",
    "\n",
    "\n",
    "\n",
    "hierarchicalClustering = AgglomerativeClustering(n_clusters=8, linkage='ward')\n",
    "\n",
    "# similarity_matrix = pairwise_similarity(sub_data, metric=custom_similarity)\n",
    "clusters_H = hierarchicalClustering.fit_predict(similarity_matrix)"
   ]
  },
  {
   "cell_type": "code",
   "execution_count": null,
   "metadata": {},
   "outputs": [],
   "source": [
    "\n",
    "def hierarchical_clustering(data, per_of_missing):\n",
    "    \n",
    "    _per_missing = remove_random_values(data, per_of_missing, escape_cols=[attr for attr in sub_data.columns if attr not in ATTRIBUTES_TYPES])\n",
    "    \n",
    "    _per_similarity_matrix = pairwise_similarity(_per_missing, metric=custom_similarity)\n",
    "    \n",
    "    # Use AgglomerativeClustering for hierarchical clustering\n",
    "    _per_clusters = hierarchicalClustering.fit_predict(_per_similarity_matrix)\n",
    "    \n",
    "    per_data_in_clusters = []\n",
    "    for i in range(5):\n",
    "        per_data_in_clusters.append(np.count_nonzero(_per_clusters == i) / len(_per_clusters) * 100)\n",
    "    \n",
    "    ari_score = adjusted_rand_score(clusters_H, _per_clusters)\n",
    "    ami_score = adjusted_mutual_info_score(clusters_H, _per_clusters)\n",
    "\n",
    "    return per_data_in_clusters, ari_score, ami_score\n",
    "\n",
    "def hierarchical_clustering_vs(data, per_of_missing):\n",
    "    \n",
    "    _per_missing = remove_random_values(data, per_of_missing, escape_cols=[attr for attr in sub_data.columns if attr not in ATTRIBUTES_TYPES])\n",
    "    \n",
    "    vs_per_similarity_matrix = pairwise_similarity(_per_missing, metric=custom_similarity_vs)\n",
    "    \n",
    "    # Use AgglomerativeClustering for hierarchical clustering\n",
    "    vs_per_clusters = hierarchicalClustering.fit_predict(vs_per_similarity_matrix)\n",
    "    \n",
    "    per_data_in_clusters_vs = []\n",
    "    for i in range(5):\n",
    "        per_data_in_clusters_vs.append(np.count_nonzero(vs_per_clusters == i) / len(vs_per_clusters) * 100)\n",
    "    \n",
    "    aris_score_vs = adjusted_rand_score(clusters_H, vs_per_clusters)\n",
    "    amis_score_vs = adjusted_mutual_info_score(clusters_H, vs_per_clusters)\n",
    "    \n",
    "    return per_data_in_clusters_vs, aris_score_vs, amis_score_vs\n"
   ]
  },
  {
   "cell_type": "code",
   "execution_count": null,
   "metadata": {},
   "outputs": [
    {
     "name": "stderr",
     "output_type": "stream",
     "text": [
      "/home/hamza/Data/phd/STARWARS/project/.venv/lib/python3.10/site-packages/scipy/cluster/hierarchy.py:833: ClusterWarning: scipy.cluster: The symmetric non-negative hollow observation matrix looks suspiciously like an uncondensed distance matrix\n",
      "  return linkage(y, method='ward', metric='euclidean')\n",
      "/home/hamza/Data/phd/STARWARS/project/.venv/lib/python3.10/site-packages/scipy/cluster/hierarchy.py:833: ClusterWarning: scipy.cluster: The symmetric non-negative hollow observation matrix looks suspiciously like an uncondensed distance matrix\n",
      "  return linkage(y, method='ward', metric='euclidean')\n",
      "/home/hamza/Data/phd/STARWARS/project/.venv/lib/python3.10/site-packages/scipy/cluster/hierarchy.py:833: ClusterWarning: scipy.cluster: The symmetric non-negative hollow observation matrix looks suspiciously like an uncondensed distance matrix\n",
      "  return linkage(y, method='ward', metric='euclidean')\n",
      "/home/hamza/Data/phd/STARWARS/project/.venv/lib/python3.10/site-packages/scipy/cluster/hierarchy.py:833: ClusterWarning: scipy.cluster: The symmetric non-negative hollow observation matrix looks suspiciously like an uncondensed distance matrix\n",
      "  return linkage(y, method='ward', metric='euclidean')\n",
      "/home/hamza/Data/phd/STARWARS/project/.venv/lib/python3.10/site-packages/scipy/cluster/hierarchy.py:833: ClusterWarning: scipy.cluster: The symmetric non-negative hollow observation matrix looks suspiciously like an uncondensed distance matrix\n",
      "  return linkage(y, method='ward', metric='euclidean')\n",
      "/home/hamza/Data/phd/STARWARS/project/.venv/lib/python3.10/site-packages/scipy/cluster/hierarchy.py:833: ClusterWarning: scipy.cluster: The symmetric non-negative hollow observation matrix looks suspiciously like an uncondensed distance matrix\n",
      "  return linkage(y, method='ward', metric='euclidean')\n",
      "/home/hamza/Data/phd/STARWARS/project/.venv/lib/python3.10/site-packages/scipy/cluster/hierarchy.py:833: ClusterWarning: scipy.cluster: The symmetric non-negative hollow observation matrix looks suspiciously like an uncondensed distance matrix\n",
      "  return linkage(y, method='ward', metric='euclidean')\n",
      "/home/hamza/Data/phd/STARWARS/project/.venv/lib/python3.10/site-packages/scipy/cluster/hierarchy.py:833: ClusterWarning: scipy.cluster: The symmetric non-negative hollow observation matrix looks suspiciously like an uncondensed distance matrix\n",
      "  return linkage(y, method='ward', metric='euclidean')\n",
      "/home/hamza/Data/phd/STARWARS/project/.venv/lib/python3.10/site-packages/scipy/cluster/hierarchy.py:833: ClusterWarning: scipy.cluster: The symmetric non-negative hollow observation matrix looks suspiciously like an uncondensed distance matrix\n",
      "  return linkage(y, method='ward', metric='euclidean')\n",
      "/home/hamza/Data/phd/STARWARS/project/.venv/lib/python3.10/site-packages/scipy/cluster/hierarchy.py:833: ClusterWarning: scipy.cluster: The symmetric non-negative hollow observation matrix looks suspiciously like an uncondensed distance matrix\n",
      "  return linkage(y, method='ward', metric='euclidean')\n"
     ]
    }
   ],
   "source": [
    "import matplotlib.pyplot as plt\n",
    "import numpy as np\n",
    "\n",
    "# Create an array of percentages from 0 to 80\n",
    "percentages = np.arange(0, 81, 10)\n",
    "\n",
    "# Initialize empty lists to store the results for spectral_clustering\n",
    "ari_scores = []\n",
    "ami_scores = []\n",
    "\n",
    "# Initialize empty lists to store the results for spectral_clustering_vs\n",
    "ari_scores_vs = []\n",
    "ami_scores_vs = []\n",
    "\n",
    "# Loop through the percentages and call your functions\n",
    "for per_of_missing in percentages:\n",
    "    # Call spectral_clustering and spectral_clustering_vs functions\n",
    "    per_data, ari, ami = hierarchical_clustering(sub_data, per_of_missing/100)\n",
    "    per_data_vs, ari_vs, ami_vs = hierarchical_clustering_vs(sub_data, per_of_missing/100)\n",
    "    \n",
    "    # Append results to respective lists\n",
    "    ari_scores.append(ari)\n",
    "    ami_scores.append(ami)\n",
    "    ari_scores_vs.append(ari_vs)\n",
    "    ami_scores_vs.append(ami_vs)\n"
   ]
  },
  {
   "cell_type": "code",
   "execution_count": null,
   "metadata": {},
   "outputs": [
    {
     "data": {
      "image/png": "[encoded data removed]",
      "text/plain": [
       "<Figure size 1000x500 with 1 Axes>"
      ]
     },
     "metadata": {},
     "output_type": "display_data"
    }
   ],
   "source": [
    "# Create a single plot with both ARI and AMI scores\n",
    "plt.figure(figsize=(10, 5))\n",
    "\n",
    "# Plot ARI scores for spectral_clustering\n",
    "plt.plot(percentages, ari_scores, marker='o', label='ARI Score (Our approach)')\n",
    "\n",
    "# Plot AMI scores for spectral_clustering\n",
    "plt.plot(percentages, ami_scores, marker='o', label='AMI Score (Our approach)')\n",
    "\n",
    "# Plot ARI scores for spectral_clustering_vs\n",
    "plt.plot(percentages, ari_scores_vs, marker='o', label='ARI Score (standard approach)')\n",
    "\n",
    "# Plot AMI scores for spectral_clustering_vs\n",
    "plt.plot(percentages, ami_scores_vs, marker='o', label='AMI Score (standard approach)')\n",
    "\n",
    "plt.xlabel('% of Missing Values')\n",
    "plt.ylabel('Score')\n",
    "plt.title('ARI and AMI Scores vs % of Missing Values')\n",
    "plt.legend()\n",
    "plt.grid()\n",
    "\n",
    "plt.show()"
   ]
  }
 ],
 "metadata": {
  "kernelspec": {
   "display_name": ".venv",
   "language": "python",
   "name": "python3"
  },
  "language_info": {
   "codemirror_mode": {
    "name": "ipython",
    "version": 3
   },
   "file_extension": ".py",
   "mimetype": "text/x-python",
   "name": "python",
   "nbconvert_exporter": "python",
   "pygments_lexer": "ipython3",
   "version": "3.10.12"
  }
 },
 "nbformat": 4,
 "nbformat_minor": 2
}
